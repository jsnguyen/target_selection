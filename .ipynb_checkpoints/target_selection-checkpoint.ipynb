{
 "cells": [
  {
   "cell_type": "code",
   "execution_count": null,
   "id": "615d23cb-7bee-486c-8d0f-2c412e6d33ab",
   "metadata": {},
   "outputs": [],
   "source": [
    "import numpy as np\n",
    "import matplotlib.pyplot as plt\n",
    "\n",
    "import astropy.units as u\n",
    "from astropy.coordinates import AltAz, EarthLocation, SkyCoord\n",
    "from astropy.time import Time\n",
    "from astropy.coordinates import get_sun\n",
    "from astropy.coordinates import get_body"
   ]
  },
  {
   "cell_type": "code",
   "execution_count": null,
   "id": "77416297-4046-4e20-acf0-b55cbb541304",
   "metadata": {},
   "outputs": [],
   "source": [
    "target = SkyCoord.from_name('M33')\n",
    "\n",
    "location = EarthLocation.of_site('Keck Observatory')\n",
    "\n",
    "frame = AltAz(obstime=times, location=location)\n",
    "altaz = target.transform_to(frame)\n",
    "\n",
    "to_hst_offset = -10 * u.hour # to hst\n",
    "\n",
    "midnight = Time('2024-1-1 00:00:00') - to_hst_offset\n",
    "delta_midnight = np.linspace(-12, 12, 1000) * u.hour\n",
    "\n",
    "times = midnight + delta_midnight"
   ]
  },
  {
   "cell_type": "code",
   "execution_count": null,
   "id": "c67ec0e9-7cf3-45e1-9eb1-ba368964a346",
   "metadata": {},
   "outputs": [],
   "source": [
    "sun = get_sun(times)\n",
    "moon = get_body('moon', times)\n",
    "\n",
    "altaz_sun = sun.transform_to(frame)\n",
    "altaz_moon = moon.transform_to(frame)"
   ]
  },
  {
   "cell_type": "code",
   "execution_count": null,
   "id": "3e11a08c-1e28-4811-ae86-d7051bf702f0",
   "metadata": {},
   "outputs": [],
   "source": [
    "fig, ax = plt.subplots()\n",
    "\n",
    "ax.plot(delta_midnight, altaz_sun.alt, color='r', label='Sun')\n",
    "ax.plot(delta_midnight, altaz_moon.alt, label='Moon')\n",
    "\n",
    "ax.fill_between(delta_midnight.value, 0 , 90 , altaz_sun.alt < 0 * u.deg, alpha=0.25, color='k')\n",
    "ax.fill_between(delta_midnight.value, 0 , 90 , altaz_sun.alt < -18 * u.deg, alpha=0.35, color='k')\n",
    "\n",
    "ax.set_xlim(-12,12)\n",
    "ax.set_ylim(0, 90)\n",
    "\n",
    "ax.set_xlabel('Hours')\n",
    "ax.set_ylabel('Altitude [deg]')\n",
    "\n",
    "ax.legend()\n",
    "ax.grid()\n",
    "plt.show()"
   ]
  }
 ],
 "metadata": {
  "kernelspec": {
   "display_name": "Python 3 (ipykernel)",
   "language": "python",
   "name": "python3"
  },
  "language_info": {
   "codemirror_mode": {
    "name": "ipython",
    "version": 3
   },
   "file_extension": ".py",
   "mimetype": "text/x-python",
   "name": "python",
   "nbconvert_exporter": "python",
   "pygments_lexer": "ipython3",
   "version": "3.12.4"
  }
 },
 "nbformat": 4,
 "nbformat_minor": 5
}
